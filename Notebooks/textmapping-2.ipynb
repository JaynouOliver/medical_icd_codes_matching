{
 "cells": [
  {
   "cell_type": "code",
   "execution_count": 1,
   "id": "6cec6ff1",
   "metadata": {},
   "outputs": [],
   "source": [
    "#Dependencies\n",
    "import numpy as np\n",
    "import pandas as pd\n",
    "from PIL import Image, ImageSequence\n",
    "from pdf2image import convert_from_path, pdfinfo_from_path\n",
    "import logging as logger\n",
    "import os\n",
    "import re\n",
    "import pytesseract\n",
    "import bs4"
   ]
  },
  {
   "cell_type": "code",
   "execution_count": 14,
   "id": "807e6b54",
   "metadata": {},
   "outputs": [],
   "source": [
    "#Configs\n",
    "raw_folder = \"/Users/pdas59/Downloads/text_mapping/data/raw\"\n",
    "doc_name = \"Exclusions - non-VIP 5.2.pdf\"\n",
    "file_name = os.path.join(raw_folder, doc_name)\n",
    "processed_folder = \"/Users/pdas59/Downloads/text_mapping/data/processed\""
   ]
  },
  {
   "cell_type": "code",
   "execution_count": 15,
   "id": "329f52d3",
   "metadata": {},
   "outputs": [],
   "source": [
    "#Utils\n",
    "\n",
    "def rename_images(image_path, folder_path):\n",
    "    try:\n",
    "        page_num = int(re.findall(r\"(\\d+)\\.[a-z]{3}$\", image_path)[0])\n",
    "        new_path = os.path.join(folder_path, f\"page{page_num}.png\")\n",
    "        os.rename(image_path, new_path)\n",
    "        doc_name = folder_path.rstrip(\"/\").split(\"/\")[-1]\n",
    "        logger.info(f\"Saved Image Number {page_num} of {doc_name} at {new_path}\")\n",
    "    except Exception as e:\n",
    "        logger.error(f\"Error in renaming image: {e}\")\n",
    "        \n",
    "def ocr_hocr(img_path, psm=4):\n",
    "    return pytesseract.image_to_pdf_or_hocr(\n",
    "        img_path, extension=\"hocr\", config=f\"--psm {psm}\"\n",
    "    )\n",
    "\n",
    "def get_text_from_hocr(hocr):\n",
    "    hocr_text = []\n",
    "    soup = bs4.BeautifulSoup(hocr, \"html.parser\")\n",
    "    for line in soup.select(\".ocr_line\"):\n",
    "        line_text = re.sub(r\"\\s+\", \" \", line.text).strip()\n",
    "        alphanum_text = re.sub(\"[^a-zA-Z0-9 \\n]\", \"\", line_text).strip()\n",
    "        if alphanum_text != \"\":\n",
    "            hocr_text.append(line_text)\n",
    "    return \"\\n\".join(hocr_text)\n",
    "\n",
    "def get_ocr_df(page_num, hocr):\n",
    "    page_dict = {\n",
    "        \"page\": '$page_num',\n",
    "        \"line\": '$line',\n",
    "        \"text\": '$text',\n",
    "    }\n",
    "    line = 1\n",
    "    text = get_text_from_hocr(hocr).split(\".\")\n",
    "    text = [re.sub(r\"\\n\\d+\", \"\", txt).replace(\"\\n\", \" \") for txt in text]\n",
    "    text = list(filter(None, text))\n",
    "    \n",
    "    page_record = list()\n",
    "    \n",
    "    for txt in text:\n",
    "        if txt.isdigit():\n",
    "            continue\n",
    "        line += 1\n",
    "        page_dict[\"page\"] = page_num\n",
    "        page_dict[\"line\"] = line\n",
    "        page_dict[\"text\"] = txt\n",
    "        page_record.append(page_dict.copy())\n",
    "    return pd.DataFrame.from_records(page_record)"
   ]
  },
  {
   "cell_type": "code",
   "execution_count": 16,
   "id": "6f6fb9f3",
   "metadata": {
    "scrolled": true
   },
   "outputs": [],
   "source": [
    "# # def fltr(txt):\n",
    "# #     return re.sub(r\"\\\\n[\\d+]\", \" \", txt)\n",
    "# list(filter(lambda x: re.sub(r\"\\n\\d+\", \" \", x),text))"
   ]
  },
  {
   "cell_type": "code",
   "execution_count": 17,
   "id": "43289819",
   "metadata": {
    "scrolled": true
   },
   "outputs": [],
   "source": [
    "# text"
   ]
  },
  {
   "cell_type": "code",
   "execution_count": 18,
   "id": "e9fe71cf",
   "metadata": {
    "scrolled": true
   },
   "outputs": [],
   "source": [
    "# text = get_text_from_hocr(hocr).split(\".\")\n",
    "# text = [re.sub(r\"\\n\\d+\", \"\", txt) for txt in text]\n",
    "# text = list(filter(None, text))\n",
    "# text"
   ]
  },
  {
   "cell_type": "code",
   "execution_count": 19,
   "id": "d33f0eb1",
   "metadata": {},
   "outputs": [],
   "source": [
    "# list(filter(None, text))"
   ]
  },
  {
   "cell_type": "code",
   "execution_count": 20,
   "id": "86d1859d",
   "metadata": {},
   "outputs": [],
   "source": [
    "# get_text_from_hocr(hocr)"
   ]
  },
  {
   "cell_type": "code",
   "execution_count": 21,
   "id": "e19eb7e2",
   "metadata": {
    "scrolled": true
   },
   "outputs": [
    {
     "ename": "PermissionError",
     "evalue": "[Errno 13] Permission denied: '/Users/pdas59'",
     "output_type": "error",
     "traceback": [
      "\u001b[0;31m---------------------------------------------------------------------------\u001b[0m",
      "\u001b[0;31mPermissionError\u001b[0m                           Traceback (most recent call last)",
      "Input \u001b[0;32mIn [21]\u001b[0m, in \u001b[0;36m<cell line: 5>\u001b[0;34m()\u001b[0m\n\u001b[1;32m      3\u001b[0m logger\u001b[38;5;241m.\u001b[39minfo(\u001b[38;5;124mf\u001b[39m\u001b[38;5;124m\"\u001b[39m\u001b[38;5;124mSplitting pdf \u001b[39m\u001b[38;5;132;01m{\u001b[39;00mdoc_name\u001b[38;5;132;01m}\u001b[39;00m\u001b[38;5;124m into PNGs\u001b[39m\u001b[38;5;124m\"\u001b[39m)\n\u001b[1;32m      4\u001b[0m output_folder \u001b[38;5;241m=\u001b[39m os\u001b[38;5;241m.\u001b[39mpath\u001b[38;5;241m.\u001b[39mjoin(processed_folder, doc_name\u001b[38;5;241m.\u001b[39msplit(\u001b[38;5;124m\"\u001b[39m\u001b[38;5;124m.\u001b[39m\u001b[38;5;124m\"\u001b[39m)[\u001b[38;5;241m0\u001b[39m])\n\u001b[0;32m----> 5\u001b[0m \u001b[43mos\u001b[49m\u001b[38;5;241;43m.\u001b[39;49m\u001b[43mmakedirs\u001b[49m\u001b[43m(\u001b[49m\u001b[43moutput_folder\u001b[49m\u001b[43m,\u001b[49m\u001b[43m \u001b[49m\u001b[43mexist_ok\u001b[49m\u001b[38;5;241;43m=\u001b[39;49m\u001b[38;5;28;43;01mTrue\u001b[39;49;00m\u001b[43m)\u001b[49m\n\u001b[1;32m      6\u001b[0m num_pages \u001b[38;5;241m=\u001b[39m pdfinfo_from_path(file_name)[\u001b[38;5;124m'\u001b[39m\u001b[38;5;124mPages\u001b[39m\u001b[38;5;124m'\u001b[39m]\n\u001b[1;32m      7\u001b[0m logger\u001b[38;5;241m.\u001b[39minfo(\n\u001b[1;32m      8\u001b[0m     \u001b[38;5;124mf\u001b[39m\u001b[38;5;124m\"\u001b[39m\u001b[38;5;124mFound \u001b[39m\u001b[38;5;132;01m{\u001b[39;00mnum_pages\u001b[38;5;132;01m}\u001b[39;00m\u001b[38;5;124m pages of \u001b[39m\u001b[38;5;132;01m{\u001b[39;00mdoc_name\u001b[38;5;132;01m}\u001b[39;00m\u001b[38;5;124m to split into PNGs\u001b[39m\u001b[38;5;124m\"\u001b[39m)\n",
      "File \u001b[0;32m/usr/local/Cellar/python@3.9/3.9.13_1/Frameworks/Python.framework/Versions/3.9/lib/python3.9/os.py:215\u001b[0m, in \u001b[0;36mmakedirs\u001b[0;34m(name, mode, exist_ok)\u001b[0m\n\u001b[1;32m    213\u001b[0m \u001b[38;5;28;01mif\u001b[39;00m head \u001b[38;5;129;01mand\u001b[39;00m tail \u001b[38;5;129;01mand\u001b[39;00m \u001b[38;5;129;01mnot\u001b[39;00m path\u001b[38;5;241m.\u001b[39mexists(head):\n\u001b[1;32m    214\u001b[0m     \u001b[38;5;28;01mtry\u001b[39;00m:\n\u001b[0;32m--> 215\u001b[0m         \u001b[43mmakedirs\u001b[49m\u001b[43m(\u001b[49m\u001b[43mhead\u001b[49m\u001b[43m,\u001b[49m\u001b[43m \u001b[49m\u001b[43mexist_ok\u001b[49m\u001b[38;5;241;43m=\u001b[39;49m\u001b[43mexist_ok\u001b[49m\u001b[43m)\u001b[49m\n\u001b[1;32m    216\u001b[0m     \u001b[38;5;28;01mexcept\u001b[39;00m \u001b[38;5;167;01mFileExistsError\u001b[39;00m:\n\u001b[1;32m    217\u001b[0m         \u001b[38;5;66;03m# Defeats race condition when another thread created the path\u001b[39;00m\n\u001b[1;32m    218\u001b[0m         \u001b[38;5;28;01mpass\u001b[39;00m\n",
      "File \u001b[0;32m/usr/local/Cellar/python@3.9/3.9.13_1/Frameworks/Python.framework/Versions/3.9/lib/python3.9/os.py:215\u001b[0m, in \u001b[0;36mmakedirs\u001b[0;34m(name, mode, exist_ok)\u001b[0m\n\u001b[1;32m    213\u001b[0m \u001b[38;5;28;01mif\u001b[39;00m head \u001b[38;5;129;01mand\u001b[39;00m tail \u001b[38;5;129;01mand\u001b[39;00m \u001b[38;5;129;01mnot\u001b[39;00m path\u001b[38;5;241m.\u001b[39mexists(head):\n\u001b[1;32m    214\u001b[0m     \u001b[38;5;28;01mtry\u001b[39;00m:\n\u001b[0;32m--> 215\u001b[0m         \u001b[43mmakedirs\u001b[49m\u001b[43m(\u001b[49m\u001b[43mhead\u001b[49m\u001b[43m,\u001b[49m\u001b[43m \u001b[49m\u001b[43mexist_ok\u001b[49m\u001b[38;5;241;43m=\u001b[39;49m\u001b[43mexist_ok\u001b[49m\u001b[43m)\u001b[49m\n\u001b[1;32m    216\u001b[0m     \u001b[38;5;28;01mexcept\u001b[39;00m \u001b[38;5;167;01mFileExistsError\u001b[39;00m:\n\u001b[1;32m    217\u001b[0m         \u001b[38;5;66;03m# Defeats race condition when another thread created the path\u001b[39;00m\n\u001b[1;32m    218\u001b[0m         \u001b[38;5;28;01mpass\u001b[39;00m\n",
      "    \u001b[0;31m[... skipping similar frames: makedirs at line 215 (2 times)]\u001b[0m\n",
      "File \u001b[0;32m/usr/local/Cellar/python@3.9/3.9.13_1/Frameworks/Python.framework/Versions/3.9/lib/python3.9/os.py:215\u001b[0m, in \u001b[0;36mmakedirs\u001b[0;34m(name, mode, exist_ok)\u001b[0m\n\u001b[1;32m    213\u001b[0m \u001b[38;5;28;01mif\u001b[39;00m head \u001b[38;5;129;01mand\u001b[39;00m tail \u001b[38;5;129;01mand\u001b[39;00m \u001b[38;5;129;01mnot\u001b[39;00m path\u001b[38;5;241m.\u001b[39mexists(head):\n\u001b[1;32m    214\u001b[0m     \u001b[38;5;28;01mtry\u001b[39;00m:\n\u001b[0;32m--> 215\u001b[0m         \u001b[43mmakedirs\u001b[49m\u001b[43m(\u001b[49m\u001b[43mhead\u001b[49m\u001b[43m,\u001b[49m\u001b[43m \u001b[49m\u001b[43mexist_ok\u001b[49m\u001b[38;5;241;43m=\u001b[39;49m\u001b[43mexist_ok\u001b[49m\u001b[43m)\u001b[49m\n\u001b[1;32m    216\u001b[0m     \u001b[38;5;28;01mexcept\u001b[39;00m \u001b[38;5;167;01mFileExistsError\u001b[39;00m:\n\u001b[1;32m    217\u001b[0m         \u001b[38;5;66;03m# Defeats race condition when another thread created the path\u001b[39;00m\n\u001b[1;32m    218\u001b[0m         \u001b[38;5;28;01mpass\u001b[39;00m\n",
      "File \u001b[0;32m/usr/local/Cellar/python@3.9/3.9.13_1/Frameworks/Python.framework/Versions/3.9/lib/python3.9/os.py:225\u001b[0m, in \u001b[0;36mmakedirs\u001b[0;34m(name, mode, exist_ok)\u001b[0m\n\u001b[1;32m    223\u001b[0m         \u001b[38;5;28;01mreturn\u001b[39;00m\n\u001b[1;32m    224\u001b[0m \u001b[38;5;28;01mtry\u001b[39;00m:\n\u001b[0;32m--> 225\u001b[0m     \u001b[43mmkdir\u001b[49m\u001b[43m(\u001b[49m\u001b[43mname\u001b[49m\u001b[43m,\u001b[49m\u001b[43m \u001b[49m\u001b[43mmode\u001b[49m\u001b[43m)\u001b[49m\n\u001b[1;32m    226\u001b[0m \u001b[38;5;28;01mexcept\u001b[39;00m \u001b[38;5;167;01mOSError\u001b[39;00m:\n\u001b[1;32m    227\u001b[0m     \u001b[38;5;66;03m# Cannot rely on checking for EEXIST, since the operating system\u001b[39;00m\n\u001b[1;32m    228\u001b[0m     \u001b[38;5;66;03m# could give priority to other errors like EACCES or EROFS\u001b[39;00m\n\u001b[1;32m    229\u001b[0m     \u001b[38;5;28;01mif\u001b[39;00m \u001b[38;5;129;01mnot\u001b[39;00m exist_ok \u001b[38;5;129;01mor\u001b[39;00m \u001b[38;5;129;01mnot\u001b[39;00m path\u001b[38;5;241m.\u001b[39misdir(name):\n",
      "\u001b[0;31mPermissionError\u001b[0m: [Errno 13] Permission denied: '/Users/pdas59'"
     ]
    }
   ],
   "source": [
    "#File Splitting - Doc pre-processing\n",
    "\n",
    "logger.info(f\"Splitting pdf {doc_name} into PNGs\")\n",
    "output_folder = os.path.join(processed_folder, doc_name.split(\".\")[0])\n",
    "os.makedirs(output_folder, exist_ok=True)\n",
    "num_pages = pdfinfo_from_path(file_name)['Pages']\n",
    "logger.info(\n",
    "    f\"Found {num_pages} pages of {doc_name} to split into PNGs\")\n",
    "\n",
    "image_paths = convert_from_path(file_name,\n",
    "                                output_folder=output_folder,\n",
    "                                paths_only=True,\n",
    "                                fmt=\"png\",\n",
    "                                output_file=\"page\")\n",
    "for image_path in image_paths:\n",
    "    rename_images(image_path, output_folder)"
   ]
  },
  {
   "cell_type": "code",
   "execution_count": 4,
   "id": "cfba5597-52dd-4d23-b7f2-3a5e03280e86",
   "metadata": {},
   "outputs": [],
   "source": [
    "output_folder = os.path.join(processed_folder, doc_name.split(\".\")[0])"
   ]
  },
  {
   "cell_type": "code",
   "execution_count": 5,
   "id": "d507f593",
   "metadata": {
    "scrolled": true
   },
   "outputs": [],
   "source": [
    "#Getting OCR Results\n",
    "ocr_df = pd.DataFrame(columns= [\"page\",\"line\",\"text\", \"CODE\"])\n",
    "\n",
    "for page_path in os.listdir(output_folder):\n",
    "    page_num = int(re.findall(r'\\d+', page_path)[0])\n",
    "    page_img = os.path.join(output_folder, page_path)\n",
    "    hocr = ocr_hocr(page_img).decode(encoding=\"utf-8\", errors=\"ignore\")\n",
    "    ocr_df = pd.concat([ocr_df, get_ocr_df(page_num, hocr)])\n"
   ]
  },
  {
   "cell_type": "code",
   "execution_count": 6,
   "id": "d3848a86",
   "metadata": {},
   "outputs": [
    {
     "data": {
      "text/html": [
       "<div>\n",
       "<style scoped>\n",
       "    .dataframe tbody tr th:only-of-type {\n",
       "        vertical-align: middle;\n",
       "    }\n",
       "\n",
       "    .dataframe tbody tr th {\n",
       "        vertical-align: top;\n",
       "    }\n",
       "\n",
       "    .dataframe thead th {\n",
       "        text-align: right;\n",
       "    }\n",
       "</style>\n",
       "<table border=\"1\" class=\"dataframe\">\n",
       "  <thead>\n",
       "    <tr style=\"text-align: right;\">\n",
       "      <th></th>\n",
       "      <th>page</th>\n",
       "      <th>line</th>\n",
       "      <th>text</th>\n",
       "      <th>CODE</th>\n",
       "    </tr>\n",
       "  </thead>\n",
       "  <tbody>\n",
       "    <tr>\n",
       "      <th>0</th>\n",
       "      <td>9</td>\n",
       "      <td>2</td>\n",
       "      <td>Any expenses related to immunomodulators and I...</td>\n",
       "      <td>NaN</td>\n",
       "    </tr>\n",
       "    <tr>\n",
       "      <th>1</th>\n",
       "      <td>9</td>\n",
       "      <td>3</td>\n",
       "      <td>Any expenses related to the treatment of slee...</td>\n",
       "      <td>NaN</td>\n",
       "    </tr>\n",
       "    <tr>\n",
       "      <th>2</th>\n",
       "      <td>9</td>\n",
       "      <td>4</td>\n",
       "      <td>Services and educational programs for handicaps</td>\n",
       "      <td>NaN</td>\n",
       "    </tr>\n",
       "    <tr>\n",
       "      <th>3</th>\n",
       "      <td>9</td>\n",
       "      <td>5</td>\n",
       "      <td>Injuries or illnesses suffered by the Insured...</td>\n",
       "      <td>NaN</td>\n",
       "    </tr>\n",
       "    <tr>\n",
       "      <th>4</th>\n",
       "      <td>9</td>\n",
       "      <td>6</td>\n",
       "      <td>Injuries or illnesses suffered by the Insured...</td>\n",
       "      <td>NaN</td>\n",
       "    </tr>\n",
       "  </tbody>\n",
       "</table>\n",
       "</div>"
      ],
      "text/plain": [
       "  page line                                               text CODE\n",
       "0    9    2  Any expenses related to immunomodulators and I...  NaN\n",
       "1    9    3   Any expenses related to the treatment of slee...  NaN\n",
       "2    9    4    Services and educational programs for handicaps  NaN\n",
       "3    9    5   Injuries or illnesses suffered by the Insured...  NaN\n",
       "4    9    6   Injuries or illnesses suffered by the Insured...  NaN"
      ]
     },
     "execution_count": 6,
     "metadata": {},
     "output_type": "execute_result"
    }
   ],
   "source": [
    "ocr_df.head()"
   ]
  },
  {
   "cell_type": "code",
   "execution_count": 15,
   "id": "b0a3e339",
   "metadata": {},
   "outputs": [
    {
     "name": "stdout",
     "output_type": "stream",
     "text": [
      "Collecting openpyxl\n",
      "  Downloading openpyxl-3.0.10-py2.py3-none-any.whl (242 kB)\n",
      "\u001b[2K     \u001b[38;2;114;156;31m━━━━━━━━━━━━━━━━━━━━━━━━━━━━━━━━━━━━━━\u001b[0m \u001b[32m242.1/242.1 KB\u001b[0m \u001b[31m69.1 kB/s\u001b[0m eta \u001b[36m0:00:00\u001b[0m31m67.6 kB/s\u001b[0m eta \u001b[36m0:00:01\u001b[0m\n",
      "\u001b[?25hCollecting et-xmlfile\n",
      "  Using cached et_xmlfile-1.1.0-py3-none-any.whl (4.7 kB)\n",
      "Installing collected packages: et-xmlfile, openpyxl\n",
      "Successfully installed et-xmlfile-1.1.0 openpyxl-3.0.10\n",
      "\u001b[33mWARNING: You are using pip version 22.0.4; however, version 22.1.2 is available.\n",
      "You should consider upgrading via the '/Users/sali115/text_mapping/text_env/bin/python3.9 -m pip install --upgrade pip' command.\u001b[0m\u001b[33m\n",
      "\u001b[0m"
     ]
    }
   ],
   "source": [
    "!pip install openpyxl"
   ]
  },
  {
   "cell_type": "code",
   "execution_count": 2,
   "id": "7958c0f0-fc4d-42aa-9d1a-d8a11213cf55",
   "metadata": {
    "scrolled": true
   },
   "outputs": [
    {
     "data": {
      "text/html": [
       "<div>\n",
       "<style scoped>\n",
       "    .dataframe tbody tr th:only-of-type {\n",
       "        vertical-align: middle;\n",
       "    }\n",
       "\n",
       "    .dataframe tbody tr th {\n",
       "        vertical-align: top;\n",
       "    }\n",
       "\n",
       "    .dataframe thead th {\n",
       "        text-align: right;\n",
       "    }\n",
       "</style>\n",
       "<table border=\"1\" class=\"dataframe\">\n",
       "  <thead>\n",
       "    <tr style=\"text-align: right;\">\n",
       "      <th></th>\n",
       "      <th>CPT_CODE</th>\n",
       "      <th>SHORT_DESCRIPTION</th>\n",
       "      <th>LONG_DESCRIPTION</th>\n",
       "      <th>FULL_DESCRIPTION</th>\n",
       "    </tr>\n",
       "  </thead>\n",
       "  <tbody>\n",
       "    <tr>\n",
       "      <th>0</th>\n",
       "      <td>0001F</td>\n",
       "      <td>HEART FAILURE COMPOSITE</td>\n",
       "      <td>HRT FAILURE ASSESSED</td>\n",
       "      <td>Heart failure assessed (includes assessment of...</td>\n",
       "    </tr>\n",
       "    <tr>\n",
       "      <th>1</th>\n",
       "      <td>0005F</td>\n",
       "      <td>OSTEOARTHRITIS COMPOSITE</td>\n",
       "      <td>OSTEOARTHRITIS COMPOSITE</td>\n",
       "      <td>Osteoarthritis assessed (OA) Includes assessme...</td>\n",
       "    </tr>\n",
       "    <tr>\n",
       "      <th>2</th>\n",
       "      <td>00100</td>\n",
       "      <td>ANESTH SALIVARY GLAND</td>\n",
       "      <td>ANESTHESIA SALIVARY GLANDS WITH BIOPSY</td>\n",
       "      <td>Anesthesia for procedures on salivary glands, ...</td>\n",
       "    </tr>\n",
       "    <tr>\n",
       "      <th>3</th>\n",
       "      <td>00102</td>\n",
       "      <td>ANESTH REPAIR OF CLEFT LIP</td>\n",
       "      <td>ANESTHESIA CLEFT LIP INVOLVING PLASTIC REPAIR</td>\n",
       "      <td>Anesthesia for procedures involving plastic re...</td>\n",
       "    </tr>\n",
       "    <tr>\n",
       "      <th>4</th>\n",
       "      <td>00103</td>\n",
       "      <td>ANESTH BLEPHAROPLASTY</td>\n",
       "      <td>ANESTHESIA EYELID RECONSTRUCTIVE PROCEDURE</td>\n",
       "      <td>Anesthesia for reconstructive procedures of ey...</td>\n",
       "    </tr>\n",
       "  </tbody>\n",
       "</table>\n",
       "</div>"
      ],
      "text/plain": [
       "  CPT_CODE           SHORT_DESCRIPTION  \\\n",
       "0    0001F     HEART FAILURE COMPOSITE   \n",
       "1    0005F    OSTEOARTHRITIS COMPOSITE   \n",
       "2    00100       ANESTH SALIVARY GLAND   \n",
       "3    00102  ANESTH REPAIR OF CLEFT LIP   \n",
       "4    00103       ANESTH BLEPHAROPLASTY   \n",
       "\n",
       "                                LONG_DESCRIPTION  \\\n",
       "0                           HRT FAILURE ASSESSED   \n",
       "1                       OSTEOARTHRITIS COMPOSITE   \n",
       "2         ANESTHESIA SALIVARY GLANDS WITH BIOPSY   \n",
       "3  ANESTHESIA CLEFT LIP INVOLVING PLASTIC REPAIR   \n",
       "4     ANESTHESIA EYELID RECONSTRUCTIVE PROCEDURE   \n",
       "\n",
       "                                    FULL_DESCRIPTION  \n",
       "0  Heart failure assessed (includes assessment of...  \n",
       "1  Osteoarthritis assessed (OA) Includes assessme...  \n",
       "2  Anesthesia for procedures on salivary glands, ...  \n",
       "3  Anesthesia for procedures involving plastic re...  \n",
       "4  Anesthesia for reconstructive procedures of ey...  "
      ]
     },
     "execution_count": 2,
     "metadata": {},
     "output_type": "execute_result"
    }
   ],
   "source": [
    "cpt_df=pd.read_excel(\"/Users/sali115/text_mapping/data/helper/CPT CODES.xlsx\")\n",
    "cpt_df.head()"
   ]
  },
  {
   "cell_type": "code",
   "execution_count": 13,
   "id": "448ebef9",
   "metadata": {
    "scrolled": true
   },
   "outputs": [
    {
     "name": "stdout",
     "output_type": "stream",
     "text": [
      "Collecting transformers\n",
      "  Downloading transformers-4.19.2-py3-none-any.whl (4.2 MB)\n",
      "\u001b[2K     \u001b[38;2;114;156;31m━━━━━━━━━━━━━━━━━━━━━━━━━━━━━━━━━━━━━━━━\u001b[0m \u001b[32m4.2/4.2 MB\u001b[0m \u001b[31m131.5 kB/s\u001b[0m eta \u001b[36m0:00:00\u001b[0mm eta \u001b[36m0:00:01\u001b[0m[36m0:00:01\u001b[0m\n",
      "\u001b[?25hCollecting tokenizers!=0.11.3,<0.13,>=0.11.1\n",
      "  Downloading tokenizers-0.12.1-cp39-cp39-macosx_10_11_x86_64.whl (3.6 MB)\n",
      "\u001b[2K     \u001b[38;2;114;156;31m━━━━━━━━━━━━━━━━━━━━━━━━━━━━━━━━━━━━━━━━\u001b[0m \u001b[32m3.6/3.6 MB\u001b[0m \u001b[31m341.7 kB/s\u001b[0m eta \u001b[36m0:00:00\u001b[0mm eta \u001b[36m0:00:01\u001b[0m[36m0:00:01\u001b[0m\n",
      "\u001b[?25hCollecting tqdm>=4.27\n",
      "  Using cached tqdm-4.64.0-py2.py3-none-any.whl (78 kB)\n",
      "Collecting requests\n",
      "  Using cached requests-2.27.1-py2.py3-none-any.whl (63 kB)\n",
      "Requirement already satisfied: packaging>=20.0 in /Users/sali115/text_mapping/text_env/lib/python3.9/site-packages (from transformers) (21.3)\n",
      "Collecting filelock\n",
      "  Downloading filelock-3.7.1-py3-none-any.whl (10 kB)\n",
      "Collecting regex!=2019.12.17\n",
      "  Downloading regex-2022.6.2-cp39-cp39-macosx_10_9_x86_64.whl (288 kB)\n",
      "\u001b[2K     \u001b[38;2;114;156;31m━━━━━━━━━━━━━━━━━━━━━━━━━━━━━━━━━━━━━\u001b[0m \u001b[32m289.0/289.0 KB\u001b[0m \u001b[31m865.8 kB/s\u001b[0m eta \u001b[36m0:00:00\u001b[0mm eta \u001b[36m0:00:01\u001b[0m[36m0:00:01\u001b[0m\n",
      "\u001b[?25hCollecting pyyaml>=5.1\n",
      "  Using cached PyYAML-6.0-cp39-cp39-macosx_10_9_x86_64.whl (197 kB)\n",
      "Requirement already satisfied: numpy>=1.17 in /Users/sali115/text_mapping/text_env/lib/python3.9/site-packages (from transformers) (1.22.4)\n",
      "Collecting huggingface-hub<1.0,>=0.1.0\n",
      "  Downloading huggingface_hub-0.7.0-py3-none-any.whl (86 kB)\n",
      "\u001b[2K     \u001b[38;2;114;156;31m━━━━━━━━━━━━━━━━━━━━━━━━━━━━━━━━━━━━━━━━\u001b[0m \u001b[32m86.2/86.2 KB\u001b[0m \u001b[31m3.0 MB/s\u001b[0m eta \u001b[36m0:00:00\u001b[0m\n",
      "\u001b[?25hCollecting typing-extensions>=3.7.4.3\n",
      "  Using cached typing_extensions-4.2.0-py3-none-any.whl (24 kB)\n",
      "Requirement already satisfied: pyparsing!=3.0.5,>=2.0.2 in /Users/sali115/text_mapping/text_env/lib/python3.9/site-packages (from packaging>=20.0->transformers) (3.0.9)\n",
      "Collecting urllib3<1.27,>=1.21.1\n",
      "  Using cached urllib3-1.26.9-py2.py3-none-any.whl (138 kB)\n",
      "Collecting certifi>=2017.4.17\n",
      "  Using cached certifi-2022.5.18.1-py3-none-any.whl (155 kB)\n",
      "Collecting idna<4,>=2.5\n",
      "  Using cached idna-3.3-py3-none-any.whl (61 kB)\n",
      "Collecting charset-normalizer~=2.0.0\n",
      "  Using cached charset_normalizer-2.0.12-py3-none-any.whl (39 kB)\n",
      "Installing collected packages: tokenizers, urllib3, typing-extensions, tqdm, regex, pyyaml, idna, filelock, charset-normalizer, certifi, requests, huggingface-hub, transformers\n",
      "Successfully installed certifi-2022.5.18.1 charset-normalizer-2.0.12 filelock-3.7.1 huggingface-hub-0.7.0 idna-3.3 pyyaml-6.0 regex-2022.6.2 requests-2.27.1 tokenizers-0.12.1 tqdm-4.64.0 transformers-4.19.2 typing-extensions-4.2.0 urllib3-1.26.9\n",
      "\u001b[33mWARNING: You are using pip version 22.0.4; however, version 22.1.2 is available.\n",
      "You should consider upgrading via the '/Users/sali115/text_mapping/text_env/bin/python3.9 -m pip install --upgrade pip' command.\u001b[0m\u001b[33m\n",
      "\u001b[0m"
     ]
    }
   ],
   "source": [
    "!pip install transformers"
   ]
  },
  {
   "cell_type": "code",
   "execution_count": 3,
   "id": "d7532d90-5bfe-4667-b8d9-d2c3365cb315",
   "metadata": {},
   "outputs": [],
   "source": [
    "from transformers import BertTokenizer, BertModel, AutoTokenizer, AutoModel"
   ]
  },
  {
   "cell_type": "code",
   "execution_count": 20,
   "id": "3ba2547e",
   "metadata": {
    "scrolled": true
   },
   "outputs": [
    {
     "name": "stdout",
     "output_type": "stream",
     "text": [
      "Collecting torch\n",
      "  Using cached torch-1.11.0-cp39-none-macosx_10_9_x86_64.whl (129.9 MB)\n",
      "Collecting torchvision\n",
      "  Using cached torchvision-0.12.0-cp39-cp39-macosx_10_9_x86_64.whl (1.2 MB)\n",
      "Requirement already satisfied: typing-extensions in /Users/sali115/text_mapping/text_env/lib/python3.9/site-packages (from torch) (4.2.0)\n",
      "Requirement already satisfied: numpy in /Users/sali115/text_mapping/text_env/lib/python3.9/site-packages (from torchvision) (1.22.4)\n",
      "Requirement already satisfied: pillow!=8.3.*,>=5.3.0 in /Users/sali115/text_mapping/text_env/lib/python3.9/site-packages (from torchvision) (9.1.1)\n",
      "Requirement already satisfied: requests in /Users/sali115/text_mapping/text_env/lib/python3.9/site-packages (from torchvision) (2.27.1)\n",
      "Requirement already satisfied: charset-normalizer~=2.0.0 in /Users/sali115/text_mapping/text_env/lib/python3.9/site-packages (from requests->torchvision) (2.0.12)\n",
      "Requirement already satisfied: idna<4,>=2.5 in /Users/sali115/text_mapping/text_env/lib/python3.9/site-packages (from requests->torchvision) (3.3)\n",
      "Requirement already satisfied: certifi>=2017.4.17 in /Users/sali115/text_mapping/text_env/lib/python3.9/site-packages (from requests->torchvision) (2022.5.18.1)\n",
      "Requirement already satisfied: urllib3<1.27,>=1.21.1 in /Users/sali115/text_mapping/text_env/lib/python3.9/site-packages (from requests->torchvision) (1.26.9)\n",
      "Installing collected packages: torch, torchvision\n",
      "Successfully installed torch-1.11.0 torchvision-0.12.0\n",
      "\u001b[33mWARNING: You are using pip version 22.0.4; however, version 22.1.2 is available.\n",
      "You should consider upgrading via the '/Users/sali115/text_mapping/text_env/bin/python3.9 -m pip install --upgrade pip' command.\u001b[0m\u001b[33m\n",
      "\u001b[0m"
     ]
    }
   ],
   "source": [
    "!pip install torch torchvision"
   ]
  },
  {
   "cell_type": "code",
   "execution_count": 4,
   "id": "4fb44b3b-56f6-4fe9-9ef4-20c4874d55e4",
   "metadata": {
    "scrolled": true
   },
   "outputs": [
    {
     "name": "stderr",
     "output_type": "stream",
     "text": [
      "Some weights of the model checkpoint at emilyalsentzer/Bio_ClinicalBERT were not used when initializing BertModel: ['cls.predictions.transform.dense.bias', 'cls.predictions.transform.LayerNorm.bias', 'cls.predictions.bias', 'cls.predictions.decoder.weight', 'cls.seq_relationship.weight', 'cls.predictions.transform.dense.weight', 'cls.seq_relationship.bias', 'cls.predictions.transform.LayerNorm.weight']\n",
      "- This IS expected if you are initializing BertModel from the checkpoint of a model trained on another task or with another architecture (e.g. initializing a BertForSequenceClassification model from a BertForPreTraining model).\n",
      "- This IS NOT expected if you are initializing BertModel from the checkpoint of a model that you expect to be exactly identical (initializing a BertForSequenceClassification model from a BertForSequenceClassification model).\n"
     ]
    }
   ],
   "source": [
    "tokenizer = AutoTokenizer.from_pretrained(\"emilyalsentzer/Bio_ClinicalBERT\")\n",
    "model = AutoModel.from_pretrained(\"emilyalsentzer/Bio_ClinicalBERT\")"
   ]
  },
  {
   "cell_type": "code",
   "execution_count": 5,
   "id": "ba05d2d2-a688-442c-b0a4-68ae0ce93b02",
   "metadata": {},
   "outputs": [],
   "source": [
    "import torch"
   ]
  },
  {
   "cell_type": "code",
   "execution_count": 6,
   "id": "8c39e4bf-0634-4432-a188-f1a86dc6fbe2",
   "metadata": {},
   "outputs": [],
   "source": [
    "input_ids = torch.tensor(tokenizer.encode(cpt_df[\"FULL_DESCRIPTION\"].values[0])).unsqueeze(0)"
   ]
  },
  {
   "cell_type": "code",
   "execution_count": 7,
   "id": "4fea6b37-a2f5-4e39-873c-976941441eba",
   "metadata": {},
   "outputs": [],
   "source": [
    "outputs = model(input_ids)"
   ]
  },
  {
   "cell_type": "code",
   "execution_count": 8,
   "id": "3406d098-b931-4fa0-97c2-cc126cfcd194",
   "metadata": {},
   "outputs": [],
   "source": [
    "embeddings_of_last_layer=outputs[0]\n",
    "cls_embeddings=embeddings_of_last_layer[0][0]"
   ]
  },
  {
   "cell_type": "code",
   "execution_count": 14,
   "id": "f1fc1727-2030-41f9-8ab0-abe6a8f78ef2",
   "metadata": {},
   "outputs": [
    {
     "data": {
      "text/plain": [
       "768"
      ]
     },
     "execution_count": 14,
     "metadata": {},
     "output_type": "execute_result"
    }
   ],
   "source": [
    "len(cls_embeddings)"
   ]
  },
  {
   "cell_type": "code",
   "execution_count": 9,
   "id": "61368f08-d1b6-400a-b62a-efa36aa1525f",
   "metadata": {},
   "outputs": [],
   "source": [
    "# page_2_df = ocr_df[ocr_df.page == 2]\n",
    "# page_2_df"
   ]
  },
  {
   "cell_type": "code",
   "execution_count": 10,
   "id": "67886f25-c922-4c1e-8f44-39aa904f4c29",
   "metadata": {},
   "outputs": [],
   "source": [
    "def ClinicalBert_embeddings(text):\n",
    "    \n",
    "    input_ids = torch.tensor(tokenizer.encode(text)).unsqueeze(0)\n",
    "    outputs = model(input_ids)\n",
    "    embeddings_of_last_layer = outputs[0]\n",
    "    cls_embeddings = embeddings_of_last_layer[0][0]\n",
    "    \n",
    "    return cls_embeddings"
   ]
  },
  {
   "cell_type": "code",
   "execution_count": 11,
   "id": "5f041b5f-6ef9-434d-aa27-4699fdb80c32",
   "metadata": {},
   "outputs": [
    {
     "name": "stdout",
     "output_type": "stream",
     "text": [
      "Embedding: tensor([-1.0589e-01,  2.3349e-01, -1.3264e-01,  8.3456e-02,  1.9767e-01,\n",
      "        -5.0167e-01,  7.6262e-01, -1.2887e-01,  6.3157e-01, -3.6499e-01,\n",
      "        -5.4129e-01,  1.7551e-03, -4.9618e-01, -1.0218e-01, -5.6850e-01,\n",
      "         7.6426e-02,  4.0520e-01, -9.7468e-02, -1.2326e-01, -2.0685e-01,\n",
      "         5.4379e-02,  3.8240e-01, -4.6297e-02, -8.3208e-01, -3.3165e-01,\n",
      "         3.3957e-01,  5.4114e-01,  1.7548e-01, -2.0968e-02,  7.1162e-01,\n",
      "         2.2213e-01,  5.3445e-01, -5.0488e-01,  6.6914e-02,  1.0509e-01,\n",
      "         1.4191e-01, -3.6755e-02,  3.0241e-02, -3.5191e-01,  3.7172e-01,\n",
      "         1.3592e-01,  1.7833e-01,  5.7153e-01,  4.2908e-01,  3.3005e-01,\n",
      "        -4.5765e-01,  2.4992e-01,  6.2640e-01, -3.4049e-01, -2.7678e-02,\n",
      "         4.7249e-03,  8.2036e-01,  6.8205e-01, -1.3977e-01,  2.6645e-01,\n",
      "        -1.6644e-01, -3.7232e-01, -1.4518e-01, -1.8354e-01,  1.7428e-01,\n",
      "         1.6577e-01, -4.2287e-01,  6.1022e-02, -2.0929e-01, -2.9355e-01,\n",
      "         1.8355e-01,  5.0113e-02,  2.5857e-01, -7.7099e-02, -4.5248e-01,\n",
      "        -6.5861e-01, -3.5870e-01, -5.7693e-01, -1.0588e-03,  1.8885e-01,\n",
      "         1.0586e-01,  4.8904e-01,  1.6565e-01,  3.4205e-01, -3.1805e-01,\n",
      "         9.0372e-02,  9.4854e-02,  2.6536e-02,  2.3052e-01, -7.0622e-01,\n",
      "         2.4835e-01, -3.9035e-01, -2.7285e-01, -3.1959e-01, -6.7336e-02,\n",
      "         4.2345e-02, -3.6661e-01, -3.3762e-01,  2.5570e-01, -3.0120e-01,\n",
      "        -1.7880e-01, -1.9415e-01,  3.3471e-01,  9.1300e-01, -3.2007e-01,\n",
      "         6.9914e-01, -2.0469e-01,  2.5752e-02, -1.2099e-01,  3.0603e-01,\n",
      "         2.8010e-01, -2.4166e-01, -4.4408e-01, -3.1181e-01,  7.3216e-02,\n",
      "         2.7454e-01, -4.3425e-01,  8.1332e-02,  2.0997e-01, -2.1838e-01,\n",
      "         1.8397e-01, -4.3798e-01,  2.2863e-01,  2.7797e-01, -3.0429e-01,\n",
      "         2.7354e-01, -2.5254e-01,  5.7387e-01,  8.6690e-01, -1.4271e-01,\n",
      "        -1.8651e-01,  2.8368e-01, -9.2953e-02,  4.1178e-01,  2.0772e-01,\n",
      "         6.1818e-03,  2.3002e-01, -2.3535e-01,  3.2132e-01,  2.1558e-01,\n",
      "         1.1173e-01, -2.8646e-01, -8.0281e-02, -9.7025e-01, -5.5877e-01,\n",
      "        -4.4871e-01,  3.7037e-03, -5.4250e-02, -4.8011e-01, -6.5986e-03,\n",
      "        -1.6649e-01, -1.8290e-01,  4.9251e-02, -1.8099e-01, -2.7275e-01,\n",
      "         2.4254e-01, -1.4690e-02, -3.7651e-01,  1.6763e-01, -1.6597e-01,\n",
      "        -2.9107e-01, -7.6466e-02, -8.2607e-02,  4.5556e-01, -3.2780e-01,\n",
      "         1.6837e-01,  1.1388e+00, -2.8015e-01,  1.2644e-02,  6.4538e-01,\n",
      "        -9.4639e-01,  4.6902e-02,  9.1520e-02,  1.0192e-01, -2.4776e-01,\n",
      "        -4.2472e-01,  4.4418e-01, -2.0899e-01,  8.7849e-01,  4.2283e-01,\n",
      "         9.9172e-01,  8.9284e-02, -4.8904e-01,  8.1669e-02, -1.8952e-01,\n",
      "         2.0604e-01,  3.2710e-01,  2.5899e-01, -3.4095e-01,  6.3331e-02,\n",
      "         5.0871e-01, -7.6004e-02, -6.3861e-02,  1.3810e-01,  6.3181e-02,\n",
      "         1.0654e-01,  1.6469e-01,  3.5989e-01, -5.4330e-01, -1.4165e-01,\n",
      "        -3.9870e-01, -2.6581e-01,  4.1208e-02, -1.9082e-01,  3.3311e-02,\n",
      "         7.1368e-03,  2.3753e-01,  1.0654e-01,  1.2756e-02,  3.7696e-01,\n",
      "         3.8823e-01,  5.6811e-01, -2.8052e-01, -1.2411e-01, -1.8777e-01,\n",
      "        -3.0139e-01,  2.0859e-01,  6.5914e-02,  1.1028e-01,  2.4941e-01,\n",
      "         3.0633e-02,  3.5804e-01, -4.3794e-01, -6.8833e-01,  3.7797e-01,\n",
      "         2.5531e-01, -1.7851e-01,  1.5056e-02,  5.8825e-02, -1.1699e-01,\n",
      "         2.8430e-01,  2.6156e-01,  3.4251e-02, -1.3676e-01, -4.8382e-01,\n",
      "        -1.9027e-01,  4.6915e-01,  4.3098e-01, -3.9167e-01, -1.4378e-01,\n",
      "        -6.2047e-01, -1.0623e-01,  1.9466e-01, -1.2860e-01, -1.0992e-01,\n",
      "        -3.5547e-02,  8.8289e-02,  1.9344e-01,  6.5543e-01, -5.3755e-01,\n",
      "        -2.9890e-01,  6.0519e-01,  2.4710e-01,  6.4332e-02,  4.1297e-01,\n",
      "         3.7398e-01,  4.2209e-01,  1.3845e-01, -4.7308e-01,  1.9050e-01,\n",
      "        -3.3930e-01, -3.3998e-01,  2.7953e-01, -2.6237e-01,  5.1449e-02,\n",
      "         2.4236e-01, -4.8617e-01, -2.8585e-01, -1.8933e-02, -2.1972e-01,\n",
      "        -7.9961e-03, -2.4824e-01,  1.3999e-01, -1.7630e-01, -2.1636e-01,\n",
      "        -8.0967e-02, -1.8947e-01, -8.0669e-02, -3.8205e-01,  1.4265e-01,\n",
      "         2.0299e-01, -5.7373e-02, -1.8553e-01, -4.6553e-01, -1.4583e-01,\n",
      "        -5.3916e-01, -2.5620e-02,  1.1234e-01,  1.5380e-01, -5.0782e-01,\n",
      "         5.9356e-01,  6.6288e-01, -2.0508e-01, -1.0467e-01,  2.3640e-01,\n",
      "         6.2925e-01,  6.2897e-01, -2.4972e-01, -2.6234e-01, -4.2921e-01,\n",
      "         4.0496e-01, -2.3850e-01,  5.6387e-01, -4.4639e-01,  3.1647e-01,\n",
      "         3.2198e-01,  4.6230e-02,  9.1952e-03,  2.9784e-01, -3.2324e-02,\n",
      "         1.6811e-01, -2.2592e-01,  6.8661e-02,  1.2005e-02, -2.3423e-01,\n",
      "         6.6340e-01,  1.5486e-01, -2.6322e-01,  3.7501e-01,  7.2238e-02,\n",
      "        -5.8989e-01, -1.6991e-01,  7.3648e-02,  6.5403e-01,  5.2554e-01,\n",
      "        -1.6158e-01,  1.9061e-01, -1.1320e-01, -4.0067e-01, -3.4262e-01,\n",
      "        -4.3704e-01,  2.0324e-01, -6.9116e-01,  4.7067e-01,  4.1954e-01,\n",
      "        -1.9581e-01,  5.6394e-01, -6.5879e-01, -8.3676e-01,  1.8234e-01,\n",
      "        -7.8355e-02, -1.8917e-01,  1.7552e-01,  1.5538e-01,  9.6757e-02,\n",
      "        -1.6065e-03,  1.3654e-01, -7.7555e-01, -2.7008e-01,  2.2979e-01,\n",
      "         3.7041e-01, -1.9374e-01, -5.1058e-01,  4.7620e-01, -6.6021e-02,\n",
      "         1.6162e-01,  3.7766e-01, -1.6154e-01,  1.2539e-01, -3.0962e-01,\n",
      "        -5.0314e-01,  7.5586e-02, -6.8557e-02,  2.7749e-01, -2.5839e-01,\n",
      "        -2.1756e-01, -3.0880e-01, -1.8993e-01,  3.0283e-01, -5.4429e-01,\n",
      "         2.9372e-01,  1.0725e-01, -5.4319e-01, -3.7815e-01, -3.0019e-01,\n",
      "         1.6948e-01,  2.8750e-01,  1.7617e-01,  1.3562e-01, -6.3550e-02,\n",
      "        -9.8040e-02,  3.3224e-01,  1.3417e-01, -2.9281e-01, -7.7377e-01,\n",
      "        -5.7037e-01,  1.3578e-01,  1.1511e-01, -3.7990e-01,  5.5301e-01,\n",
      "        -5.2220e-01,  1.6000e-02, -3.9540e-01, -2.1860e-01, -5.5708e-01,\n",
      "         2.8379e-01,  2.8780e-01,  1.8110e-01,  2.2668e-01,  1.4612e-01,\n",
      "         5.1491e-01,  1.0282e-01,  2.2991e-01,  3.0784e-01, -6.1224e-01,\n",
      "        -7.5716e-02,  3.0725e-01,  1.3827e-01,  2.1394e-01, -4.1774e-01,\n",
      "         3.0766e-01, -2.0590e-01, -2.1038e-01, -3.8672e-01,  3.1556e-02,\n",
      "        -7.4150e-01, -5.1429e-01, -1.0137e-01, -3.3294e-01, -3.3115e-01,\n",
      "        -1.9823e-01,  1.1037e-02, -5.9537e-02,  2.8353e-01, -1.8286e-01,\n",
      "        -4.7999e-03, -1.5172e-03,  4.6775e-01,  6.7221e-02,  4.0649e-01,\n",
      "         9.0046e-02, -1.4971e-01,  2.5858e-02, -1.5231e-01,  3.8008e-01,\n",
      "        -1.9461e-01, -6.5034e-03,  1.7338e-01,  3.4607e-01, -8.4735e-02,\n",
      "        -4.2792e-01,  5.4619e-02, -1.7062e-01,  6.0840e-02,  2.0499e-01,\n",
      "        -7.9176e-02,  5.6025e-01, -1.5779e-01, -1.3358e-01,  1.3313e-01,\n",
      "         1.3656e-01,  1.2107e-01,  3.9642e-01, -5.7185e-02, -2.7635e-01,\n",
      "        -3.7099e-01,  2.4917e-01,  4.2167e-01,  9.2842e-02,  3.4612e-01,\n",
      "         3.3169e-01,  3.2707e-01, -1.8878e-01, -4.9339e-01, -9.4555e-02,\n",
      "        -5.2961e-02,  7.6338e-02, -1.8299e-01,  5.3164e-01,  3.7752e-01,\n",
      "        -2.3043e-01,  6.5412e-01, -2.0925e-01, -5.3253e-02,  4.6900e-01,\n",
      "         2.6265e-01, -6.1816e-01,  2.5992e-01,  9.7892e-02,  1.3773e-01,\n",
      "        -1.5150e-01, -3.4553e-01,  1.4882e-01,  5.1595e-01, -1.2683e-01,\n",
      "        -3.8699e-01,  1.9706e-01, -1.3003e-01,  1.8533e-01,  9.0800e-02,\n",
      "        -1.9513e-02,  6.6195e-01,  1.3793e-02,  6.2147e-01,  1.1428e-01,\n",
      "        -1.0538e-01,  5.2525e-01, -3.7924e-01,  4.8844e-01, -2.1975e-02,\n",
      "         2.8688e-01, -1.5183e-01, -5.2655e-01, -3.2555e-01,  9.1705e-03,\n",
      "         1.9042e-01, -1.5116e-01, -2.1696e-01,  2.3814e-01, -6.9577e-01,\n",
      "        -2.5373e-01,  4.2571e-01,  1.4255e-01,  3.0522e-01, -5.2385e-01,\n",
      "        -2.9755e-02, -3.5514e-01,  3.9162e-01,  6.7063e-01, -3.0430e-01,\n",
      "        -5.5073e-01, -4.6536e-01, -5.5273e-02,  6.4549e-01,  1.1020e-01,\n",
      "         5.7239e-01, -3.5324e-01, -2.1739e-01,  3.8632e-02,  4.0807e-01,\n",
      "        -7.1895e-02, -2.1668e-01, -3.0681e-01,  2.3754e-01, -1.4778e-01,\n",
      "         1.3951e-02,  4.5556e-01, -1.6570e-01, -5.8444e-01,  3.9388e-02,\n",
      "         5.1556e-01,  7.0635e-02, -1.2953e-01,  1.5393e-01,  5.8516e-01,\n",
      "        -1.9737e-01,  8.9879e-02,  3.3348e-01,  5.9382e-02,  3.7311e-01,\n",
      "        -6.6239e-02,  1.4256e-01,  1.8330e-01,  4.7094e-01,  7.4152e-01,\n",
      "         1.2970e-01, -3.6230e-02, -2.9723e-01,  2.1233e-01,  1.7093e-01,\n",
      "         1.0959e-02, -3.6941e-01, -1.0551e+01, -6.0766e-02, -3.5324e-01,\n",
      "         6.4764e-01,  1.5234e-01, -9.9362e-02,  8.0963e-01, -1.4551e-01,\n",
      "        -3.3195e-01, -8.6914e-02, -9.4591e-01, -2.0188e-02,  9.3131e-02,\n",
      "         3.1500e-01,  1.5846e-01,  1.9065e-01, -7.1224e-02,  5.7755e-01,\n",
      "         4.1311e-01,  7.4826e-01,  2.2662e-01,  5.5045e-01, -1.6526e-01,\n",
      "         2.9287e-01,  9.3662e-02, -2.3249e-01, -4.9349e-01, -2.6432e-01,\n",
      "        -4.6975e-01,  1.1681e-01,  2.0713e-01,  8.1345e-02, -2.7030e-01,\n",
      "        -1.3422e-01, -2.3030e-01, -4.0831e-01, -2.8785e-01, -2.3726e-01,\n",
      "         2.1676e-02,  2.2109e-01,  1.1392e-01, -6.2259e-01,  2.8009e-01,\n",
      "         5.2732e-01,  2.8606e-01, -8.0105e-01,  3.0715e-02, -1.8254e+00,\n",
      "         6.0420e-01,  6.1395e-01,  6.9920e-01, -2.0109e-01,  5.2606e-01,\n",
      "         2.0410e-01, -1.3946e-01,  2.2222e-01, -2.7840e-01, -1.6021e-01,\n",
      "        -2.0584e-01, -3.2540e-01,  5.5261e-02,  3.7174e-01,  3.7113e-01,\n",
      "        -2.0174e-01, -3.5394e-01,  2.1301e-01, -4.4551e-01, -2.5999e-02,\n",
      "        -1.7407e-01, -1.5698e-01, -4.4491e-01,  2.0935e-01, -2.7403e-01,\n",
      "         3.7104e-01,  9.3081e-01, -1.3702e-01, -4.8627e-01,  2.4389e-01,\n",
      "        -7.2260e-02,  4.5362e-01, -2.0026e-01,  5.4097e-01,  2.4650e-02,\n",
      "        -3.1439e-01,  4.1708e-01, -3.4188e-01,  3.1349e-01,  2.5874e-01,\n",
      "        -2.3636e-01,  4.6268e-01, -6.7730e-02,  2.4521e-01,  2.4446e-01,\n",
      "        -5.6250e-01, -4.4626e-01, -3.5030e-01, -4.9541e-01, -1.4434e-01,\n",
      "        -6.1036e-01,  4.8884e-01,  6.4585e-02,  3.1581e-01, -2.8618e-02,\n",
      "        -6.0095e-01, -1.6424e-01,  2.9988e-01,  3.4837e-01, -7.2114e-02,\n",
      "         8.4936e-02,  1.8371e-01,  5.2052e-02,  1.8753e-01, -6.9401e-02,\n",
      "         8.5809e-02, -1.1034e-01, -2.0738e-01, -3.1517e-01, -2.4141e-01,\n",
      "        -3.7546e-01, -7.3774e-02,  7.2899e-01, -1.2589e-01,  4.1625e-01,\n",
      "         3.3744e-01, -2.4717e-01, -4.5067e-01,  9.1205e-01, -1.3189e-01,\n",
      "         2.2344e-01,  3.7096e-02,  4.1108e-01,  8.6298e-02,  3.2691e-01,\n",
      "         3.2708e-01, -5.9989e-02,  3.1580e-01,  3.7935e-01, -1.4530e-01,\n",
      "        -3.3788e-01,  1.4126e-01, -2.5868e-01,  2.0407e-02,  3.6595e-01,\n",
      "         3.2465e-01, -1.3699e-01, -4.6146e-01, -1.2803e-02, -5.4376e-02,\n",
      "        -3.6869e-01, -1.9925e-02,  8.3396e-02,  2.1445e-01,  5.6061e-02,\n",
      "        -7.5117e-01,  4.0939e-02, -4.2215e-01,  1.6053e-02,  1.2157e-01,\n",
      "        -5.3377e-01,  1.3042e-01,  9.3317e-03,  6.0973e-01, -4.1118e-01,\n",
      "         1.6005e-01,  8.8199e-02,  4.9389e-01,  9.2256e-02, -3.8010e-02,\n",
      "        -2.1843e-01,  3.3391e-01, -5.2441e-01,  1.3791e-01, -2.8816e-01,\n",
      "        -5.5438e-01, -2.5832e-02, -6.2710e-01,  4.3964e-03, -1.1497e-02,\n",
      "        -2.5365e-01,  2.5863e-01, -5.7400e-02, -1.7217e-01,  1.7919e-01,\n",
      "        -2.3273e-01,  4.9768e-02,  5.8128e-01,  5.8170e-01, -9.4930e-02,\n",
      "        -6.3044e-02, -2.5218e-01, -9.4337e-03,  1.0733e-01,  2.1693e-01,\n",
      "        -1.2552e-01,  2.8099e-01, -2.4685e-01, -4.9696e-01,  9.9550e-02,\n",
      "        -1.9652e-01,  4.2575e-01, -1.7550e-01, -7.2919e-02,  2.1341e-01,\n",
      "        -2.7310e-01,  6.0570e-02,  2.3704e-01,  5.4637e-01, -1.1656e-01,\n",
      "        -3.5426e-01,  1.4270e-01, -2.4448e-01], grad_fn=<SelectBackward0>)\n",
      "Description: Heart failure assessed (includes assessment of all the following components) (CAD): Blood pressure measured (2000F) Level of activity assessed (1003F) Clinical symptoms of volume overload (excess) assessed (1004F) Weight, recorded (2001F) Clinical signs of volume overload (excess) assessed (2002F)\n"
     ]
    }
   ],
   "source": [
    "import gc\n",
    "cpt_embeddings= dict()\n",
    "for _,row in cpt_df.iterrows():\n",
    "    embeddings = ClinicalBert_embeddings(row[\"FULL_DESCRIPTION\"])\n",
    "    cpt_embeddings[row[\"CPT_CODE\"]] = embeddings\n",
    "    print(f\"Embedding: {embeddings}\")\n",
    "    print(f'Description: {row[\"FULL_DESCRIPTION\"]}')\n",
    "    break\n",
    "    del embeddings\n",
    "    gc.collect()"
   ]
  },
  {
   "cell_type": "code",
   "execution_count": null,
   "id": "12f602a4-92c6-48d4-8c1b-e13609ea67f7",
   "metadata": {},
   "outputs": [],
   "source": []
  }
 ],
 "metadata": {
  "kernelspec": {
   "display_name": "Python 3 (ipykernel)",
   "language": "python",
   "name": "python3"
  },
  "language_info": {
   "codemirror_mode": {
    "name": "ipython",
    "version": 3
   },
   "file_extension": ".py",
   "mimetype": "text/x-python",
   "name": "python",
   "nbconvert_exporter": "python",
   "pygments_lexer": "ipython3",
   "version": "3.9.13"
  }
 },
 "nbformat": 4,
 "nbformat_minor": 5
}
